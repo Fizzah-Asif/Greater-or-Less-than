{
 "cells": [
  {
   "cell_type": "code",
   "execution_count": null,
   "id": "386851d2",
   "metadata": {},
   "outputs": [],
   "source": [
    "x = int(input(\"Enter value of x:\"))\n",
    "y = int(input(\"Enter value of y:\"))\n",
    "if x > y:\n",
    "    print(x,\"is greater than\",y)\n",
    "elif x < y:\n",
    "    print(y,\"is greater than:\",x)\n",
    "else:\n",
    "    print(x,\"and\",y,\"are equal\")"
   ]
  }
 ],
 "metadata": {
  "kernelspec": {
   "display_name": "Python 3 (ipykernel)",
   "language": "python",
   "name": "python3"
  },
  "language_info": {
   "codemirror_mode": {
    "name": "ipython",
    "version": 3
   },
   "file_extension": ".py",
   "mimetype": "text/x-python",
   "name": "python",
   "nbconvert_exporter": "python",
   "pygments_lexer": "ipython3",
   "version": "3.9.7"
  }
 },
 "nbformat": 4,
 "nbformat_minor": 5
}
